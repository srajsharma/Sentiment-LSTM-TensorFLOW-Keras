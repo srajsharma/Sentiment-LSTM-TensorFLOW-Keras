{
 "cells": [
  {
   "cell_type": "markdown",
   "metadata": {},
   "source": [
    "## Natural Language Processing with Deep Learning Techniques\n",
    "\n",
    "This demo will walk through two networks - a bi-directional LSTM and a temporal CNN. The bi-directional LSTM is trained with a pre-trained embedding that it then improves upon. For simplicity sake, both networks are shown using the Keras framework.\n",
    "\n",
    "The dataset used for the demonstration is the Ditigal Music reviews from: http://jmcauley.ucsd.edu/data/amazon/ and the pre-trained word embedding is Google News' 300d vector which can be downloaded from https://code.google.com/archive/p/word2vec/. Please download the dataset and model from those locations. The terms and conditions of the data set license apply. Intel does not grant any rights to the data files. The Amazon Review Dataset was published in the following papers:\n",
    "\n",
    "Ups and downs: Modeling the visual evolution of fashion trends with one-class collaborative filtering\n",
    "R. He, J. McAuley\n",
    "WWW, 2016\n",
    "http://cseweb.ucsd.edu/~jmcauley/pdfs/www16a.pdf\n",
    "\n",
    "Image-based recommendations on styles and substitutes\n",
    "J. McAuley, C. Targett, J. Shi, A. van den Hengel\n",
    "SIGIR, 2015\n",
    "http://cseweb.ucsd.edu/~jmcauley/pdfs/sigir15.pdf\n",
    "\n",
    "\n",
    "In this example we are taking the most positive and most negative reviews from that dataset, and using simple normalization techniques. More complex techniques and larger datasets can be applied to get better results as currently the networks are overfitting in the examples. We will discuss some strategies to mitigate overfitting.\n",
    "\n",
    "Everything can be run on a laptop, Python 3.6 is used, though it should all work in Python 2.7 as well."
   ]
  },
  {
   "cell_type": "code",
   "execution_count": null,
   "metadata": {},
   "outputs": [],
   "source": [
    "import numpy as np\n",
    "import pandas as pd \n",
    "import pickle\n",
    "import json\n",
    "import gensim\n",
    "import os\n",
    "import re\n",
    "\n",
    "from sklearn.model_selection import train_test_split\n",
    "\n",
    "from pandas.plotting import scatter_matrix\n",
    "\n",
    "from keras.preprocessing.text import Tokenizer\n",
    "from keras.preprocessing.sequence import pad_sequences\n",
    "from keras.preprocessing import sequence\n",
    "from keras.optimizers import RMSprop, SGD\n",
    "from keras.models import Sequential, Model\n",
    "from keras.layers.core import Dense, Dropout, Activation, Flatten, Reshape\n",
    "from keras.layers import Input, Bidirectional, LSTM, regularizers\n",
    "from keras.layers.embeddings import Embedding\n",
    "from keras.layers.convolutional import Conv1D, MaxPooling1D, MaxPooling2D, Conv2D\n",
    "from keras.layers.normalization import BatchNormalization\n",
    "from keras.callbacks import EarlyStopping\n",
    "\n",
    "\n",
    "%matplotlib inline\n",
    "\n",
    "import matplotlib\n",
    "import numpy as np\n",
    "import matplotlib.pyplot as plt"
   ]
  },
  {
   "cell_type": "code",
   "execution_count": 2,
   "metadata": {
    "collapsed": true
   },
   "outputs": [],
   "source": [
    "# Change these to match your file paths :)\n",
    "filename = '/data_path/reviews_Digital_Music_5.json' #64,706 reviews"
   ]
  },
  {
   "cell_type": "code",
   "execution_count": 3,
   "metadata": {},
   "outputs": [],
   "source": [
    "model_path = \"model_path/GoogleNews-vectors-negative300.bin\"\n",
    "word_vector_model = gensim.models.KeyedVectors.load_word2vec_format(model_path, binary=True)"
   ]
  },
  {
   "cell_type": "code",
   "execution_count": 40,
   "metadata": {
    "collapsed": true
   },
   "outputs": [],
   "source": [
    "def normalize(txt, vocab=None, replace_char=' ',\n",
    "                max_length=300, pad_out=False,\n",
    "                to_lower=True, reverse = False,\n",
    "                truncate_left=False, encoding=None,\n",
    "                letters_only=False):\n",
    "  \n",
    "    txt = txt.split()\n",
    "    # Remove HTML\n",
    "    # This will keep characters and other symbols\n",
    "    txt = [re.sub(r'http:.*', '', r) for r in txt]\n",
    "    txt = [re.sub(r'https:.*', '', r) for r in txt]\n",
    "    \n",
    "    txt = ( \" \".join(txt))\n",
    "    # Remove non-emoticon punctuation and numbers\n",
    "    txt = re.sub(\"[.,!0-9]\", \" \", txt)\n",
    "    if letters_only: \n",
    "        txt = re.sub(\"[^a-zA-Z]\", \" \", txt)\n",
    "    txt = \" \".join(txt.split())\n",
    "    # store length for multiple comparisons\n",
    "    txt_len = len(txt)\n",
    "\n",
    "    if truncate_left:\n",
    "        txt = txt[-max_length:]\n",
    "    else:\n",
    "        txt = txt[:max_length]\n",
    "    # change case\n",
    "    if to_lower:\n",
    "        txt = txt.lower()\n",
    "    # Reverse order\n",
    "    if reverse:\n",
    "        txt = txt[::-1]\n",
    "    # replace chars\n",
    "    if vocab is not None:\n",
    "        txt = ''.join([c if c in vocab else replace_char for c in txt])\n",
    "    # re-encode text\n",
    "    if encoding is not None:\n",
    "        txt = txt.encode(encoding, errors=\"ignore\")\n",
    "    # pad out if needed\n",
    "    if pad_out and max_length>txt_len:\n",
    "        txt = txt + replace_char * (max_length - txt_len)\n",
    "    return txt"
   ]
  },
  {
   "cell_type": "code",
   "execution_count": 69,
   "metadata": {},
   "outputs": [
    {
     "name": "stdout",
     "output_type": "stream",
     "text": [
      "this is a sentence with things :) and a link\n"
     ]
    }
   ],
   "source": [
    "# What does this normalization function look like?\n",
    "clean_text = normalize(\"This is A sentence. with things! 123 :) and a link https://gitub.com\")\n",
    "print(clean_text)"
   ]
  },
  {
   "cell_type": "code",
   "execution_count": 6,
   "metadata": {
    "collapsed": true
   },
   "outputs": [],
   "source": [
    "def balance(df):\n",
    "    print(\"Balancing the classes\")\n",
    "    type_counts = df['Sentiment'].value_counts()\n",
    "    min_count = min(type_counts.values)\n",
    "\n",
    "    balanced_df = None\n",
    "    for key in type_counts.keys():\n",
    "\n",
    "        df_sub = df[df['Sentiment']==key].sample(n=min_count, replace=False)\n",
    "        if balanced_df is not None:\n",
    "            balanced_df = balanced_df.append(df_sub)\n",
    "        else:\n",
    "            balanced_df = df_sub\n",
    "    return balanced_df"
   ]
  },
  {
   "cell_type": "markdown",
   "metadata": {},
   "source": [
    "Some of the larger Amazon datasts have to be loaded line by line as they are too large to be directly read into a Pandas DataFrame, but the smaller files may be read directly. I'm also changing the reviews into a sentiment, mapping the 1 stars as negative and 5 stars as positive. This function can be modified as desired, or you can keep the stars and use that as your prediction mechanism."
   ]
  },
  {
   "cell_type": "code",
   "execution_count": 7,
   "metadata": {
    "collapsed": true
   },
   "outputs": [],
   "source": [
    "good_columns = [\n",
    "    \"overall\", \n",
    "    \"reviewText\", \n",
    "    \"summary\"\n",
    "]\n",
    "\n",
    "def review_to_sentiment(review):\n",
    "    # Review is coming in as overall (the rating, reviewText, and summary)\n",
    "    # this then cleans the summary and review and gives it a positive or negative value\n",
    "    norm_text = normalize(review[2] + \" \" + review[1])\n",
    "    if review[0] ==5:\n",
    "        return ['positive', norm_text]\n",
    "    elif review[0] ==1:\n",
    "        return ['negative', norm_text]\n",
    "    else:\n",
    "        return ['other', norm_text]\n",
    "    \n",
    "\n",
    "\n",
    "data = []\n",
    "with open(filename, 'r') as f:\n",
    "    for line in f:\n",
    "        data_line = json.loads(line)\n",
    "        selected_row = []\n",
    "        for item in good_columns:\n",
    "            selected_row.append(data_line[item])\n",
    "        # as we read in, clean\n",
    "        data.append(review_to_sentiment(selected_row))\n",
    "        \n",
    "amazon = pd.DataFrame(data, columns=['Sentiment', 'clean_text'], dtype=str)\n",
    "\n"
   ]
  },
  {
   "cell_type": "code",
   "execution_count": 44,
   "metadata": {},
   "outputs": [
    {
     "data": {
      "text/html": [
       "<div>\n",
       "<style scoped>\n",
       "    .dataframe tbody tr th:only-of-type {\n",
       "        vertical-align: middle;\n",
       "    }\n",
       "\n",
       "    .dataframe tbody tr th {\n",
       "        vertical-align: top;\n",
       "    }\n",
       "\n",
       "    .dataframe thead th {\n",
       "        text-align: right;\n",
       "    }\n",
       "</style>\n",
       "<table border=\"1\" class=\"dataframe\">\n",
       "  <thead>\n",
       "    <tr style=\"text-align: right;\">\n",
       "      <th></th>\n",
       "      <th>Sentiment</th>\n",
       "      <th>clean_text</th>\n",
       "    </tr>\n",
       "  </thead>\n",
       "  <tbody>\n",
       "    <tr>\n",
       "      <th>0</th>\n",
       "      <td>positive</td>\n",
       "      <td>enya's last great album it's hard to believe \"...</td>\n",
       "    </tr>\n",
       "    <tr>\n",
       "      <th>1</th>\n",
       "      <td>positive</td>\n",
       "      <td>enya at her most elegant a clasically-styled a...</td>\n",
       "    </tr>\n",
       "    <tr>\n",
       "      <th>2</th>\n",
       "      <td>positive</td>\n",
       "      <td>the best so far i never thought enya would rea...</td>\n",
       "    </tr>\n",
       "    <tr>\n",
       "      <th>3</th>\n",
       "      <td>positive</td>\n",
       "      <td>ireland produces good music this is the third ...</td>\n",
       "    </tr>\n",
       "    <tr>\n",
       "      <th>5</th>\n",
       "      <td>positive</td>\n",
       "      <td>dreamy unearthly magic continues with eire's o...</td>\n",
       "    </tr>\n",
       "  </tbody>\n",
       "</table>\n",
       "</div>"
      ],
      "text/plain": [
       "  Sentiment                                         clean_text\n",
       "0  positive  enya's last great album it's hard to believe \"...\n",
       "1  positive  enya at her most elegant a clasically-styled a...\n",
       "2  positive  the best so far i never thought enya would rea...\n",
       "3  positive  ireland produces good music this is the third ...\n",
       "5  positive  dreamy unearthly magic continues with eire's o..."
      ]
     },
     "execution_count": 44,
     "metadata": {},
     "output_type": "execute_result"
    }
   ],
   "source": [
    "# For this demo lets just keep one and five stars the others are marked 'other\n",
    "amazon = amazon[amazon['Sentiment'].isin(['positive', 'negative'])]\n",
    "amazon.head()"
   ]
  },
  {
   "cell_type": "code",
   "execution_count": 9,
   "metadata": {},
   "outputs": [
    {
     "name": "stdout",
     "output_type": "stream",
     "text": [
      "Balancing the classes\n"
     ]
    },
    {
     "data": {
      "text/plain": [
       "5582"
      ]
     },
     "execution_count": 9,
     "metadata": {},
     "output_type": "execute_result"
    }
   ],
   "source": [
    "balanced_amazon = balance(amazon)\n",
    "len(balanced_amazon)"
   ]
  },
  {
   "cell_type": "code",
   "execution_count": 45,
   "metadata": {
    "collapsed": true
   },
   "outputs": [],
   "source": [
    "# Now go from the pandas into lists of text and labels\n",
    "\n",
    "text = balanced_amazon['clean_text'].values\n",
    "labels_0 = pd.get_dummies(balanced_amazon['Sentiment'])  # mapping of the labels with dummies (has headers)\n",
    "labels = labels_0.values # removes the headers"
   ]
  },
  {
   "cell_type": "code",
   "execution_count": 46,
   "metadata": {},
   "outputs": [
    {
     "data": {
      "text/plain": [
       "array([[0, 1],\n",
       "       [0, 1],\n",
       "       [0, 1],\n",
       "       [0, 1],\n",
       "       [0, 1],\n",
       "       [0, 1],\n",
       "       [0, 1],\n",
       "       [0, 1],\n",
       "       [0, 1],\n",
       "       [0, 1]], dtype=uint8)"
      ]
     },
     "execution_count": 46,
     "metadata": {},
     "output_type": "execute_result"
    }
   ],
   "source": [
    "labels[:10]"
   ]
  },
  {
   "cell_type": "code",
   "execution_count": 11,
   "metadata": {
    "collapsed": true
   },
   "outputs": [],
   "source": [
    "# Perform the Train/test split\n",
    "X_train_, X_test_, Y_train_, Y_test_ = train_test_split(text,labels, test_size = 0.2, random_state = 42)"
   ]
  },
  {
   "cell_type": "code",
   "execution_count": 12,
   "metadata": {},
   "outputs": [
    {
     "data": {
      "text/plain": [
       "array([[1, 0],\n",
       "       [0, 1],\n",
       "       [1, 0],\n",
       "       [0, 1],\n",
       "       [1, 0]], dtype=uint8)"
      ]
     },
     "execution_count": 12,
     "metadata": {},
     "output_type": "execute_result"
    }
   ],
   "source": [
    "# What does the data look like?\n",
    "# It is a one-hot encoding of the label, either positive or negative\n",
    "Y_train_[:5]"
   ]
  },
  {
   "cell_type": "code",
   "execution_count": 13,
   "metadata": {},
   "outputs": [
    {
     "data": {
      "text/plain": [
       "'a true poet gil scott-heron is one of the greatest poets the world has ever produced his words still hit home very underrated when folks talk about lyrical genius but he has written songs that are timeless&amp;very much in your face&amp;mind the music is great as well solid production&amp;arrangemen'"
      ]
     },
     "execution_count": 13,
     "metadata": {},
     "output_type": "execute_result"
    }
   ],
   "source": [
    "X_train_[42]"
   ]
  },
  {
   "cell_type": "code",
   "execution_count": 14,
   "metadata": {
    "collapsed": true
   },
   "outputs": [],
   "source": [
    "### Now for a simple bidirectional LSTM algorithm we set our feature sizes and train a tokenizer\n",
    "# First we Tokenize and get the data into a form that the model can read - this is BoW\n",
    "# In this cell we are also going to define some of our hyperparameters\n",
    "\n",
    "max_fatures = 2000\n",
    "max_len=300\n",
    "batch_size = 32\n",
    "embed_dim = 300\n",
    "lstm_out = 140\n",
    "\n",
    "dense_out=len(labels[0]) #length of features\n",
    "tokenizer = Tokenizer(num_words=max_fatures, split=' ')\n",
    "tokenizer.fit_on_texts(X_train_)\n",
    "X_train = tokenizer.texts_to_sequences(X_train_)\n",
    "X_train = pad_sequences(X_train, maxlen=max_len, padding='post')\n",
    "\n",
    "X_test = tokenizer.texts_to_sequences(X_test_)\n",
    "X_test = pad_sequences(X_test, maxlen=max_len, padding='post')\n",
    "\n",
    "word_index = tokenizer.word_index"
   ]
  },
  {
   "cell_type": "code",
   "execution_count": 47,
   "metadata": {},
   "outputs": [
    {
     "data": {
      "text/plain": [
       "array([   3,  255, 1240,    5,   19,    6,    1,  193,    1,  223,   36,\n",
       "         69,  473,   26,  454,  102,  207,  614,   72,  869,   52,  790,\n",
       "        751,   48,  716,  528,   17,   28,   36,  626,   34,   12,   22,\n",
       "        791,  241,   72,   95,   11,   84,  479,  241,  408,    1,   29,\n",
       "          5,   42,   23,  114,  870,  235,  241,    0,    0,    0,    0,\n",
       "          0,    0,    0,    0,    0,    0,    0,    0,    0,    0,    0,\n",
       "          0,    0,    0,    0,    0,    0,    0,    0,    0,    0,    0,\n",
       "          0,    0,    0,    0,    0,    0,    0,    0,    0,    0,    0,\n",
       "          0,    0,    0,    0,    0,    0,    0,    0,    0,    0,    0,\n",
       "          0,    0,    0,    0,    0,    0,    0,    0,    0,    0,    0,\n",
       "          0,    0,    0,    0,    0,    0,    0,    0,    0,    0,    0,\n",
       "          0,    0,    0,    0,    0,    0,    0,    0,    0,    0,    0,\n",
       "          0,    0,    0,    0,    0,    0,    0,    0,    0,    0,    0,\n",
       "          0,    0,    0,    0,    0,    0,    0,    0,    0,    0,    0,\n",
       "          0,    0,    0,    0,    0,    0,    0,    0,    0,    0,    0,\n",
       "          0,    0,    0,    0,    0,    0,    0,    0,    0,    0,    0,\n",
       "          0,    0,    0,    0,    0,    0,    0,    0,    0,    0,    0,\n",
       "          0,    0,    0,    0,    0,    0,    0,    0,    0,    0,    0,\n",
       "          0,    0,    0,    0,    0,    0,    0,    0,    0,    0,    0,\n",
       "          0,    0,    0,    0,    0,    0,    0,    0,    0,    0,    0,\n",
       "          0,    0,    0,    0,    0,    0,    0,    0,    0,    0,    0,\n",
       "          0,    0,    0,    0,    0,    0,    0,    0,    0,    0,    0,\n",
       "          0,    0,    0,    0,    0,    0,    0,    0,    0,    0,    0,\n",
       "          0,    0,    0,    0,    0,    0,    0,    0,    0,    0,    0,\n",
       "          0,    0,    0,    0,    0,    0,    0,    0,    0,    0,    0,\n",
       "          0,    0,    0,    0,    0,    0,    0,    0,    0,    0,    0,\n",
       "          0,    0,    0,    0,    0,    0,    0,    0,    0,    0,    0,\n",
       "          0,    0,    0], dtype=int32)"
      ]
     },
     "execution_count": 47,
     "metadata": {},
     "output_type": "execute_result"
    }
   ],
   "source": [
    "# Now what does our data look like?\n",
    "# Tokenizer creates a BOW encoding, which is then going to be fed into our Embedding matrix\n",
    "# This will be used by the model to build up a word embedding\n",
    "X_train[42]"
   ]
  },
  {
   "cell_type": "code",
   "execution_count": null,
   "metadata": {},
   "outputs": [],
   "source": [
    "# What does a word vector look like?\n",
    "# Ahhhh, like a bunch of numbers\n",
    "word_vector_model.word_vec('hello')"
   ]
  },
  {
   "cell_type": "code",
   "execution_count": 17,
   "metadata": {},
   "outputs": [
    {
     "name": "stdout",
     "output_type": "stream",
     "text": [
      "Prepare the embedding matrix\n"
     ]
    }
   ],
   "source": [
    "print('Prepare the embedding matrix')\n",
    "\n",
    "# prepare embedding matrix\n",
    "num_words = min(max_fatures, len(word_index))\n",
    "embedding_matrix = np.zeros((num_words, embed_dim))\n",
    "for word, i in word_index.items():\n",
    "    if i >= max_len:\n",
    "        continue\n",
    "    # words not found in embedding index will be all-zeros.\n",
    "    if word in word_vector_model.vocab:\n",
    "        embedding_matrix[i] = word_vector_model.word_vec(word)\n",
    "\n",
    "# load pre-trained word embeddings into an Embedding layer\n",
    "# note that we set trainable = True to fine tune the embeddings\n",
    "embedding_layer = Embedding(num_words,\n",
    "                            embed_dim,\n",
    "                            weights=[embedding_matrix],\n",
    "                            input_length=max_fatures,\n",
    "                            trainable=True)"
   ]
  },
  {
   "cell_type": "code",
   "execution_count": 49,
   "metadata": {},
   "outputs": [
    {
     "data": {
      "text/plain": [
       "array([ 0.08007812,  0.10498047,  0.04980469,  0.0534668 , -0.06738281,\n",
       "       -0.12060547,  0.03515625, -0.11865234,  0.04394531,  0.03015137,\n",
       "       -0.05688477, -0.07617188,  0.01287842,  0.04980469, -0.08496094,\n",
       "       -0.06347656,  0.00628662, -0.04321289,  0.02026367,  0.01330566,\n",
       "       -0.01953125,  0.09277344, -0.171875  , -0.00131989,  0.06542969,\n",
       "        0.05834961, -0.08251953,  0.0859375 , -0.00318909,  0.05859375,\n",
       "       -0.03491211, -0.0123291 , -0.0480957 , -0.00302124,  0.05639648,\n",
       "        0.01495361, -0.07226562, -0.05224609,  0.09667969,  0.04296875,\n",
       "       -0.03540039, -0.07324219,  0.03271484, -0.06176758,  0.00787354,\n",
       "        0.0035553 , -0.00878906,  0.0390625 ,  0.03833008,  0.04443359,\n",
       "        0.06982422,  0.01263428, -0.00445557, -0.03320312, -0.04272461,\n",
       "        0.09765625, -0.02160645, -0.0378418 ,  0.01190186, -0.01391602,\n",
       "       -0.11328125,  0.09326172, -0.03930664, -0.11621094,  0.02331543,\n",
       "       -0.01599121,  0.02636719,  0.10742188, -0.00466919,  0.09619141,\n",
       "        0.0279541 , -0.05395508,  0.08544922, -0.03686523, -0.02026367,\n",
       "       -0.08544922,  0.125     ,  0.14453125,  0.0267334 ,  0.15039062,\n",
       "        0.05273438, -0.18652344,  0.08154297, -0.01062012, -0.03735352,\n",
       "       -0.07324219, -0.07519531,  0.03613281, -0.13183594,  0.00616455,\n",
       "        0.05078125,  0.04516602,  0.0100708 , -0.15039062, -0.06005859,\n",
       "        0.05761719, -0.00692749,  0.01586914, -0.0213623 ,  0.10351562,\n",
       "       -0.00029182, -0.046875  , -0.01635742, -0.07861328, -0.06933594,\n",
       "        0.01635742, -0.03149414, -0.01373291, -0.03662109, -0.08886719,\n",
       "       -0.0480957 , -0.01318359, -0.07177734,  0.00588989, -0.04614258,\n",
       "        0.03979492,  0.10058594, -0.04931641,  0.07568359,  0.03881836,\n",
       "       -0.16699219, -0.09619141, -0.10107422,  0.02905273, -0.05786133,\n",
       "       -0.01928711, -0.04296875, -0.08398438, -0.01989746,  0.05151367,\n",
       "        0.00848389, -0.03613281, -0.14941406, -0.01855469, -0.03637695,\n",
       "       -0.07666016, -0.03955078, -0.06152344, -0.02001953,  0.04150391,\n",
       "        0.03686523, -0.07226562,  0.00592041, -0.06298828,  0.00738525,\n",
       "       -0.01586914,  0.01611328, -0.01452637,  0.00772095,  0.10107422,\n",
       "       -0.00558472,  0.01428223, -0.07617188,  0.05639648, -0.01293945,\n",
       "        0.03063965, -0.02490234, -0.09863281,  0.0324707 , -0.02807617,\n",
       "       -0.08105469,  0.02062988,  0.01611328, -0.04199219, -0.03491211,\n",
       "       -0.03759766,  0.05493164,  0.01373291,  0.02685547, -0.05859375,\n",
       "       -0.07177734, -0.12011719, -0.02282715, -0.1640625 , -0.00361633,\n",
       "       -0.05981445,  0.07080078, -0.07714844,  0.05175781, -0.04296875,\n",
       "       -0.04833984,  0.0300293 , -0.06591797, -0.03173828, -0.04882812,\n",
       "       -0.03491211,  0.05883789, -0.01464844,  0.18066406,  0.05688477,\n",
       "        0.05249023,  0.05786133,  0.11669922,  0.05200195, -0.0534668 ,\n",
       "        0.01867676, -0.015625  ,  0.00576782, -0.07324219, -0.11621094,\n",
       "        0.04052734,  0.0625    , -0.04321289,  0.01055908,  0.02172852,\n",
       "        0.04248047,  0.03271484,  0.04418945,  0.05761719,  0.02612305,\n",
       "       -0.01831055, -0.02697754, -0.00674438,  0.00509644, -0.11621094,\n",
       "        0.00364685,  0.05761719, -0.05957031, -0.08837891,  0.0135498 ,\n",
       "        0.04541016, -0.04638672, -0.0177002 , -0.0625    ,  0.03442383,\n",
       "       -0.02416992,  0.03088379,  0.09570312,  0.07958984,  0.03930664,\n",
       "        0.0279541 , -0.0859375 ,  0.08105469,  0.06640625, -0.00041962,\n",
       "       -0.06933594,  0.03588867, -0.03417969,  0.04492188, -0.00772095,\n",
       "       -0.00741577, -0.04760742,  0.01397705, -0.09960938,  0.0246582 ,\n",
       "       -0.09960938,  0.11474609,  0.03173828,  0.02209473,  0.07226562,\n",
       "        0.03686523,  0.02563477,  0.01367188, -0.02734375,  0.00592041,\n",
       "       -0.06738281,  0.05053711, -0.02832031, -0.04516602, -0.01733398,\n",
       "        0.02111816,  0.03515625, -0.04296875,  0.06640625,  0.12207031,\n",
       "        0.12353516,  0.0039978 ,  0.04516602, -0.01855469,  0.04833984,\n",
       "        0.04516602,  0.08691406,  0.02941895,  0.03759766,  0.03442383,\n",
       "       -0.07373047, -0.0402832 , -0.14648438, -0.02441406, -0.01953125,\n",
       "        0.0065918 , -0.0018158 , -0.01092529,  0.09326172,  0.06542969,\n",
       "        0.01843262, -0.09326172, -0.01574707, -0.07128906, -0.08935547,\n",
       "       -0.07128906, -0.03015137, -0.01300049,  0.01635742, -0.01831055,\n",
       "        0.01483154,  0.00500488,  0.00366211,  0.04760742, -0.06884766])"
      ]
     },
     "execution_count": 49,
     "metadata": {},
     "output_type": "execute_result"
    }
   ],
   "source": [
    "embedding_matrix[1]"
   ]
  },
  {
   "cell_type": "code",
   "execution_count": 19,
   "metadata": {},
   "outputs": [
    {
     "name": "stdout",
     "output_type": "stream",
     "text": [
      "WARNING:tensorflow:From /Users/annabeth/anaconda/envs/py36/lib/python3.6/site-packages/keras/backend/tensorflow_backend.py:1344: calling reduce_mean (from tensorflow.python.ops.math_ops) with keep_dims is deprecated and will be removed in a future version.\n",
      "Instructions for updating:\n",
      "keep_dims is deprecated, use keepdims instead\n"
     ]
    }
   ],
   "source": [
    "# Define the model using the pre-trained embedding\n",
    "sequence_input = Input(shape=(max_len,), dtype='int32')\n",
    "embedded_sequences = embedding_layer(sequence_input)\n",
    "x = Bidirectional(LSTM(lstm_out, recurrent_dropout=0.5, activation='tanh'))(embedded_sequences)\n",
    "preds = Dense(dense_out, activation='softmax')(x)\n",
    "\n",
    "model = Model(sequence_input, preds)\n",
    "model.compile(loss='categorical_crossentropy',\n",
    "              optimizer='adam',\n",
    "              metrics=['acc'])"
   ]
  },
  {
   "cell_type": "code",
   "execution_count": 20,
   "metadata": {},
   "outputs": [
    {
     "name": "stdout",
     "output_type": "stream",
     "text": [
      "Train on 4465 samples, validate on 1117 samples\n",
      "Epoch 1/20\n",
      " - 85s - loss: 0.4680 - acc: 0.7783 - val_loss: 0.3523 - val_acc: 0.8496\n",
      "Epoch 2/20\n",
      " - 84s - loss: 0.2781 - acc: 0.8876 - val_loss: 0.3443 - val_acc: 0.8442\n",
      "Epoch 3/20\n",
      " - 83s - loss: 0.1968 - acc: 0.9221 - val_loss: 0.3700 - val_acc: 0.8308\n",
      "Epoch 4/20\n",
      " - 84s - loss: 0.1469 - acc: 0.9451 - val_loss: 0.4000 - val_acc: 0.8505\n",
      "Epoch 5/20\n",
      " - 82s - loss: 0.0894 - acc: 0.9711 - val_loss: 0.4802 - val_acc: 0.8478\n",
      "Epoch 6/20\n",
      " - 82s - loss: 0.0542 - acc: 0.9828 - val_loss: 0.5430 - val_acc: 0.8415\n",
      "Epoch 7/20\n",
      " - 83s - loss: 0.0479 - acc: 0.9850 - val_loss: 0.5724 - val_acc: 0.8165\n",
      "Epoch 8/20\n",
      " - 83s - loss: 0.0337 - acc: 0.9908 - val_loss: 0.6893 - val_acc: 0.8487\n",
      "Epoch 9/20\n",
      " - 83s - loss: 0.0090 - acc: 0.9989 - val_loss: 0.7429 - val_acc: 0.8397\n",
      "Epoch 10/20\n",
      " - 81s - loss: 0.0110 - acc: 0.9975 - val_loss: 0.8305 - val_acc: 0.8424\n",
      "Epoch 11/20\n",
      " - 84s - loss: 0.0045 - acc: 0.9989 - val_loss: 0.8527 - val_acc: 0.8353\n",
      "Epoch 12/20\n",
      " - 82s - loss: 0.0079 - acc: 0.9975 - val_loss: 0.8297 - val_acc: 0.8362\n",
      "Epoch 13/20\n",
      " - 81s - loss: 0.0147 - acc: 0.9942 - val_loss: 1.0953 - val_acc: 0.8236\n",
      "Epoch 14/20\n",
      " - 81s - loss: 0.0028 - acc: 0.9993 - val_loss: 1.0002 - val_acc: 0.8380\n",
      "Epoch 15/20\n",
      " - 82s - loss: 0.0011 - acc: 0.9998 - val_loss: 1.0492 - val_acc: 0.8397\n",
      "Epoch 16/20\n",
      " - 82s - loss: 2.7383e-04 - acc: 1.0000 - val_loss: 1.0793 - val_acc: 0.8469\n",
      "Epoch 17/20\n",
      " - 83s - loss: 1.4529e-04 - acc: 1.0000 - val_loss: 1.1192 - val_acc: 0.8460\n",
      "Epoch 18/20\n",
      " - 81s - loss: 1.0854e-04 - acc: 1.0000 - val_loss: 1.1464 - val_acc: 0.8478\n",
      "Epoch 19/20\n",
      " - 82s - loss: 8.5897e-05 - acc: 1.0000 - val_loss: 1.1656 - val_acc: 0.8487\n",
      "Epoch 20/20\n",
      " - 82s - loss: 7.0487e-05 - acc: 1.0000 - val_loss: 1.1859 - val_acc: 0.8487\n"
     ]
    }
   ],
   "source": [
    "model_hist_embedding = model.fit(X_train, Y_train_, epochs = 20, batch_size=batch_size, verbose = 2,\n",
    "                        validation_data=(X_test,Y_test_))"
   ]
  },
  {
   "cell_type": "code",
   "execution_count": 66,
   "metadata": {},
   "outputs": [
    {
     "data": {
      "image/png": "[encoded data removed]",
      "text/plain": [
       "<matplotlib.figure.Figure at 0x268b73f60>"
      ]
     },
     "metadata": {},
     "output_type": "display_data"
    }
   ],
   "source": [
    "# Training Accuracy\n",
    "x = np.arange(20)+1\n",
    "\n",
    "plt.plot(x, model_hist_embedding.history['acc'])\n",
    "plt.legend(['LSTM'], loc='lower right')\n",
    "plt.ylabel(\"Accuracy\")\n",
    "axes = plt.gca()\n",
    "axes.set_ylim([0.45,1.01])\n",
    "plt.xlabel(\"Epoch\")\n",
    "plt.title(\"Training Accuracy\")\n",
    "plt.show()"
   ]
  },
  {
   "cell_type": "code",
   "execution_count": 65,
   "metadata": {},
   "outputs": [
    {
     "data": {
      "image/png": "[encoded data removed]",
      "text/plain": [
       "<matplotlib.figure.Figure at 0x269292828>"
      ]
     },
     "metadata": {},
     "output_type": "display_data"
    }
   ],
   "source": [
    "# Testing Accuracy\n",
    "x = np.arange(20)+1\n",
    "\n",
    "plt.plot(x, model_hist_embedding.history['val_acc'])\n",
    "plt.legend(['LSTM'], loc='right')\n",
    "plt.ylabel(\"Accuracy\")\n",
    "axes = plt.gca()\n",
    "axes.set_ylim([0.45,1.01])\n",
    "plt.xlabel(\"Epoch\")\n",
    "plt.title(\"Testing Accuracy\")\n",
    "plt.show()"
   ]
  },
  {
   "cell_type": "markdown",
   "metadata": {},
   "source": [
    "## Temporal Convolutional Networks\n",
    "How does the simple bidirectional LSTM compare to the temporal convolutional network?\n",
    "\n",
    "This As defined in \"Text Understanding from Scratch\" by Zhang, LeCun 2015 https://arxiv.org/pdf/1502.01710v4.pdf this model is a series of 1D CNNs, with a maxpooling and fully connected layers."
   ]
  },
  {
   "cell_type": "code",
   "execution_count": 21,
   "metadata": {},
   "outputs": [],
   "source": [
    "zhang_lecun_vocab=list(\"abcdefghijklmnopqrstuvwxyz0123456789-,;.!?:’’’/\\|_@#$%ˆ&*˜‘+-=<>()[]{}\") \n",
    "vocab_hash = {b: a for a, b in enumerate(zhang_lecun_vocab)}\n",
    "\n",
    "def to_one_hot(txt, length = max_len, vocab=vocab_hash):\n",
    "    \n",
    "    vocab_size = len(vocab.keys())\n",
    "    one_hot_vec = np.zeros((vocab_size, length), dtype=np.float32)\n",
    "    # run through txt and \"switch on\" relevant positions in one-hot vector\n",
    "    for idx, char in enumerate(txt):\n",
    "        try:\n",
    "            vocab_idx = vocab_hash[char]\n",
    "            one_hot_vec[vocab_idx, idx] = 1\n",
    "        # raised if character is out of vocabulary\n",
    "        except:\n",
    "            #print(char)\n",
    "            pass\n",
    "    return one_hot_vec"
   ]
  },
  {
   "cell_type": "code",
   "execution_count": 22,
   "metadata": {},
   "outputs": [
    {
     "data": {
      "text/plain": [
       "array([[1., 0., 0., ..., 0., 0., 0.],\n",
       "       [0., 0., 0., ..., 0., 0., 0.],\n",
       "       [0., 0., 1., ..., 0., 0., 0.],\n",
       "       ...,\n",
       "       [0., 0., 0., ..., 0., 0., 0.],\n",
       "       [0., 0., 0., ..., 0., 0., 0.],\n",
       "       [0., 0., 0., ..., 0., 0., 0.]], dtype=float32)"
      ]
     },
     "execution_count": 22,
     "metadata": {},
     "output_type": "execute_result"
    }
   ],
   "source": [
    "to_one_hot(\"a cat ate foccacia\")"
   ]
  },
  {
   "cell_type": "code",
   "execution_count": 23,
   "metadata": {
    "collapsed": true
   },
   "outputs": [],
   "source": [
    "def one_hot_cnn(dense_out, max_len=300, frame='small'):\n",
    "\n",
    "    if frame == 'large':\n",
    "        cnn_size = 1024\n",
    "        fully_connected = [2048,2048,dense_out]\n",
    "    elif frame =='small':\n",
    "        cnn_size = 256\n",
    "        fully_connected = [1024,1024,dense_out]\n",
    "    elif frame =='tiny':\n",
    "        cnn_size = 128\n",
    "        fully_connected = [512,512,dense_out]\n",
    "        \n",
    "\n",
    "    model = Sequential()\n",
    "\n",
    "    model.add(Conv1D(cnn_size, 7, padding='same', input_shape=(67, max_len)))\n",
    "    model.add(MaxPooling1D(pool_size=3))\n",
    "\n",
    "    #Input = 22 x cnn_size\n",
    "    model.add(Conv1D(cnn_size, 7, padding='same'))\n",
    "    model.add(MaxPooling1D(pool_size=3))\n",
    "\n",
    "    #Input = 7 x cnn_size\n",
    "    model.add(Conv1D(cnn_size,3, padding='same'))\n",
    "\n",
    "    #Input = 7 x cnn_size\n",
    "    model.add(Conv1D(cnn_size,3, padding='same'))\n",
    "\n",
    "    model.add(Conv1D(cnn_size,3, padding='same'))\n",
    "\n",
    "    # #Input = 7 x cnn_size\n",
    "    model.add(Conv1D(cnn_size, 3, padding='same'))\n",
    "    model.add(MaxPooling1D(pool_size=3))\n",
    "    \n",
    "    model.add(Flatten())\n",
    "\n",
    "    #Fully Connected Layers\n",
    "\n",
    "    #Input is 512 Output is 1024/2048\n",
    "    model.add(Dense(fully_connected[0]))\n",
    "    model.add(Dropout(0.75))\n",
    "    model.add(Activation('relu'))\n",
    "\n",
    "    #Input is 1024/2048 Output is 1024/2048\n",
    "    model.add(Dense(fully_connected[1]))\n",
    "    model.add(Dropout(0.75))\n",
    "    model.add(Activation('relu'))\n",
    "\n",
    "    #Input is 1024/2048 Output is dense_out size (number of classes)\n",
    "    model.add(Dense(fully_connected[2]))\n",
    "    model.add(Activation('softmax'))\n",
    "\n",
    "    #Stochastic gradient parameters as set by paper\n",
    "    sgd = SGD(lr=0.01, decay=1e-5, momentum=0.9, nesterov=True)\n",
    "    model.compile(loss='categorical_crossentropy', optimizer=sgd, metrics=['accuracy'])\n",
    "\n",
    "    return model"
   ]
  },
  {
   "cell_type": "code",
   "execution_count": 24,
   "metadata": {},
   "outputs": [
    {
     "name": "stdout",
     "output_type": "stream",
     "text": [
      "(4465, 67, 300)\n"
     ]
    }
   ],
   "source": [
    "X_train_a_ = [to_one_hot(x) for x in X_train_]\n",
    "X_test_a_ = [to_one_hot(x) for x in X_test_]\n",
    "\n",
    "X_train_a = np.asarray(X_train_a_)\n",
    "Y_train_a = Y_train_\n",
    "\n",
    "X_test_a = np.asarray(X_test_a_)\n",
    "Y_test_a = Y_test_\n",
    "\n",
    "print(X_train_a.shape)"
   ]
  },
  {
   "cell_type": "code",
   "execution_count": 35,
   "metadata": {},
   "outputs": [
    {
     "name": "stdout",
     "output_type": "stream",
     "text": [
      "_________________________________________________________________\n",
      "Layer (type)                 Output Shape              Param #   \n",
      "=================================================================\n",
      "conv1d_19 (Conv1D)           (None, 67, 256)           537856    \n",
      "_________________________________________________________________\n",
      "max_pooling1d_10 (MaxPooling (None, 22, 256)           0         \n",
      "_________________________________________________________________\n",
      "conv1d_20 (Conv1D)           (None, 22, 256)           459008    \n",
      "_________________________________________________________________\n",
      "max_pooling1d_11 (MaxPooling (None, 7, 256)            0         \n",
      "_________________________________________________________________\n",
      "conv1d_21 (Conv1D)           (None, 7, 256)            196864    \n",
      "_________________________________________________________________\n",
      "conv1d_22 (Conv1D)           (None, 7, 256)            196864    \n",
      "_________________________________________________________________\n",
      "conv1d_23 (Conv1D)           (None, 7, 256)            196864    \n",
      "_________________________________________________________________\n",
      "conv1d_24 (Conv1D)           (None, 7, 256)            196864    \n",
      "_________________________________________________________________\n",
      "max_pooling1d_12 (MaxPooling (None, 2, 256)            0         \n",
      "_________________________________________________________________\n",
      "flatten_4 (Flatten)          (None, 512)               0         \n",
      "_________________________________________________________________\n",
      "dense_12 (Dense)             (None, 1024)              525312    \n",
      "_________________________________________________________________\n",
      "dropout_7 (Dropout)          (None, 1024)              0         \n",
      "_________________________________________________________________\n",
      "activation_10 (Activation)   (None, 1024)              0         \n",
      "_________________________________________________________________\n",
      "dense_13 (Dense)             (None, 1024)              1049600   \n",
      "_________________________________________________________________\n",
      "dropout_8 (Dropout)          (None, 1024)              0         \n",
      "_________________________________________________________________\n",
      "activation_11 (Activation)   (None, 1024)              0         \n",
      "_________________________________________________________________\n",
      "dense_14 (Dense)             (None, 2)                 2050      \n",
      "_________________________________________________________________\n",
      "activation_12 (Activation)   (None, 2)                 0         \n",
      "=================================================================\n",
      "Total params: 3,361,282\n",
      "Trainable params: 3,361,282\n",
      "Non-trainable params: 0\n",
      "_________________________________________________________________\n"
     ]
    }
   ],
   "source": [
    "model_cnn = one_hot_cnn(dense_out, frame='small')\n",
    "model_cnn.summary()"
   ]
  },
  {
   "cell_type": "code",
   "execution_count": 36,
   "metadata": {},
   "outputs": [
    {
     "name": "stdout",
     "output_type": "stream",
     "text": [
      "Train on 4465 samples, validate on 1117 samples\n",
      "Epoch 1/20\n",
      "4465/4465 [==============================] - 12s 3ms/step - loss: 0.7110 - acc: 0.5050 - val_loss: 0.6953 - val_acc: 0.4879\n",
      "Epoch 2/20\n",
      "4465/4465 [==============================] - 12s 3ms/step - loss: 0.7048 - acc: 0.5024 - val_loss: 0.6945 - val_acc: 0.4879\n",
      "Epoch 3/20\n",
      "4465/4465 [==============================] - 11s 3ms/step - loss: 0.7010 - acc: 0.5122 - val_loss: 0.6922 - val_acc: 0.5264\n",
      "Epoch 4/20\n",
      "4465/4465 [==============================] - 12s 3ms/step - loss: 0.6973 - acc: 0.5131 - val_loss: 0.6916 - val_acc: 0.5273\n",
      "Epoch 5/20\n",
      "4465/4465 [==============================] - 12s 3ms/step - loss: 0.6886 - acc: 0.5442 - val_loss: 0.6920 - val_acc: 0.5228\n",
      "Epoch 6/20\n",
      "4465/4465 [==============================] - 11s 3ms/step - loss: 0.6528 - acc: 0.6206 - val_loss: 0.7426 - val_acc: 0.4960\n",
      "Epoch 7/20\n",
      "4465/4465 [==============================] - 12s 3ms/step - loss: 0.4952 - acc: 0.7695 - val_loss: 0.8299 - val_acc: 0.5389\n",
      "Epoch 8/20\n",
      "4465/4465 [==============================] - 12s 3ms/step - loss: 0.1523 - acc: 0.9485 - val_loss: 1.5280 - val_acc: 0.5443\n",
      "Epoch 9/20\n",
      "4465/4465 [==============================] - 12s 3ms/step - loss: 0.0866 - acc: 0.9702 - val_loss: 1.6476 - val_acc: 0.5282\n",
      "Epoch 10/20\n",
      "4465/4465 [==============================] - 12s 3ms/step - loss: 0.0571 - acc: 0.9801 - val_loss: 2.1418 - val_acc: 0.5515\n",
      "Epoch 11/20\n",
      "4465/4465 [==============================] - 12s 3ms/step - loss: 0.0632 - acc: 0.9747 - val_loss: 2.2884 - val_acc: 0.5407\n",
      "Epoch 12/20\n",
      "4465/4465 [==============================] - 12s 3ms/step - loss: 0.0462 - acc: 0.9850 - val_loss: 2.0141 - val_acc: 0.5443\n",
      "Epoch 13/20\n",
      "4465/4465 [==============================] - 12s 3ms/step - loss: 0.0269 - acc: 0.9917 - val_loss: 2.1857 - val_acc: 0.5551\n",
      "Epoch 14/20\n",
      "4465/4465 [==============================] - 12s 3ms/step - loss: 0.0273 - acc: 0.9908 - val_loss: 2.2976 - val_acc: 0.5568\n",
      "Epoch 15/20\n",
      "4465/4465 [==============================] - 12s 3ms/step - loss: 0.0175 - acc: 0.9944 - val_loss: 2.6683 - val_acc: 0.5586\n",
      "Epoch 16/20\n",
      "4465/4465 [==============================] - 12s 3ms/step - loss: 0.0254 - acc: 0.9906 - val_loss: 2.3203 - val_acc: 0.5363\n",
      "Epoch 17/20\n",
      "4465/4465 [==============================] - 12s 3ms/step - loss: 0.0141 - acc: 0.9946 - val_loss: 2.3924 - val_acc: 0.5604\n",
      "Epoch 18/20\n",
      "4465/4465 [==============================] - 12s 3ms/step - loss: 0.0048 - acc: 0.9987 - val_loss: 2.5982 - val_acc: 0.5542\n",
      "Epoch 19/20\n",
      "4465/4465 [==============================] - 12s 3ms/step - loss: 0.0037 - acc: 0.9989 - val_loss: 3.4331 - val_acc: 0.5264\n",
      "Epoch 20/20\n",
      "4465/4465 [==============================] - 12s 3ms/step - loss: 0.0107 - acc: 0.9964 - val_loss: 3.2068 - val_acc: 0.5425\n"
     ]
    }
   ],
   "source": [
    "model_hist_cnn = model_cnn.fit(X_train_a, Y_train_a, batch_size=64, epochs=20, verbose=1, \n",
    "          validation_data=(X_test_a,Y_test_a))"
   ]
  },
  {
   "cell_type": "markdown",
   "metadata": {},
   "source": [
    "How do these different performances compare?"
   ]
  },
  {
   "cell_type": "code",
   "execution_count": 64,
   "metadata": {},
   "outputs": [
    {
     "data": {
      "image/png": "[encoded data removed]",
      "text/plain": [
       "<matplotlib.figure.Figure at 0x268ec24e0>"
      ]
     },
     "metadata": {},
     "output_type": "display_data"
    }
   ],
   "source": [
    "# Training Accuracy\n",
    "x = np.arange(20)+1\n",
    "\n",
    "plt.plot(x, model_hist_embedding.history['acc'])\n",
    "plt.plot(x, model_hist_cnn.history['acc'])\n",
    "plt.legend(['LSTM', 'CNN'], loc='lower right')\n",
    "plt.ylabel(\"Accuracy\")\n",
    "axes = plt.gca()\n",
    "axes.set_ylim([0.45,1.01])\n",
    "plt.xlabel(\"Epoch\")\n",
    "plt.title(\"Training Accuracy\")\n",
    "plt.show()"
   ]
  },
  {
   "cell_type": "code",
   "execution_count": 63,
   "metadata": {},
   "outputs": [
    {
     "data": {
      "image/png": "[encoded data removed]",
      "text/plain": [
       "<matplotlib.figure.Figure at 0x2692922b0>"
      ]
     },
     "metadata": {},
     "output_type": "display_data"
    }
   ],
   "source": [
    "# Testing Accuracy\n",
    "x = np.arange(20)+1\n",
    "\n",
    "plt.plot(x, model_hist_embedding.history['val_acc'])\n",
    "plt.plot(x, model_hist_cnn.history['val_acc'])\n",
    "plt.legend(['LSTM', 'CNN'], loc='right')\n",
    "plt.ylabel(\"Accuracy\")\n",
    "axes = plt.gca()\n",
    "axes.set_ylim([0.45,1.01])\n",
    "plt.xlabel(\"Epoch\")\n",
    "plt.title(\"Testing Accuracy\")\n",
    "plt.show()"
   ]
  },
  {
   "cell_type": "markdown",
   "metadata": {},
   "source": [
    "So Basically they are all overfitting!\n",
    "This is a small dataset to show what can be done with deep learning"
   ]
  }
 ],
 "metadata": {
  "kernelspec": {
   "display_name": "Python 3",
   "language": "python",
   "name": "python3"
  },
  "language_info": {
   "codemirror_mode": {
    "name": "ipython",
    "version": 3
   },
   "file_extension": ".py",
   "mimetype": "text/x-python",
   "name": "python",
   "nbconvert_exporter": "python",
   "pygments_lexer": "ipython3",
   "version": "3.6.3"
  }
 },
 "nbformat": 4,
 "nbformat_minor": 2
}
